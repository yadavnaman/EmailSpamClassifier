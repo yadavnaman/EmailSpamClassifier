{
 "cells": [
  {
   "cell_type": "code",
   "execution_count": 20,
   "metadata": {},
   "outputs": [],
   "source": [
    "import os\n",
    "import numpy as np\n",
    "from collections import Counter\n",
    "from sklearn.naive_bayes import GaussianNB\n",
    "from sklearn.metrics import accuracy_score\n",
    "\n"
   ]
  },
  {
   "cell_type": "code",
   "execution_count": 21,
   "metadata": {},
   "outputs": [],
   "source": [
    "def make_Dictionary(root_dir):\n",
    "    all_words=[]\n",
    "    emails=[os.path.join(root_dir,f) for f in os.listdir(root_dir)] #ex- /train-mails/3-1msg1.txt\n",
    "    for mail in emails:\n",
    "        with open(mail,mode='r') as m: #with statement in Python is used in exception handling\n",
    "            for line in m:\n",
    "                words = line.split()\n",
    "                all_words+= words\n",
    "                \n",
    "    dictionary = Counter(all_words) #ex- {'Alice':3, 'Bob':4}\n",
    "    list_to_remove = list(dictionary)\n",
    "    \n",
    "    for item in list_to_remove:\n",
    "        if item.isalpha() == False:\n",
    "            del dictionary[item]\n",
    "        elif len(item) == 1:\n",
    "            del dictionary[item]\n",
    "            \n",
    "    dictionary = dictionary.most_common(3000)\n",
    "    \n",
    "    return dictionary\n",
    "                "
   ]
  },
  {
   "cell_type": "code",
   "execution_count": 22,
   "metadata": {},
   "outputs": [],
   "source": [
    "def extract_features(mail_dir):\n",
    "    files = [os.path.join(mail_dir,fi) for fi in os.listdir(mail_dir)]\n",
    "    features_matrix = np.zeros((len(files),3000))\n",
    "    train_labels = np.zeros(len(files))\n",
    "    docID = 0\n",
    "    for fil in files:\n",
    "        with open(fil) as fi:\n",
    "            for i,line in enumerate(fi):\n",
    "                if i == 2:\n",
    "                    words = line.split()\n",
    "                    for word in words:\n",
    "                        wordID=0\n",
    "                        for i,d in enumerate(dictionary):\n",
    "                            if d[0] == word:\n",
    "                                wordID = i\n",
    "                                features_matrix[docID,wordID] = words.count(word)\n",
    "            filepathTokens = fil.split('/')\n",
    "            lastToken = filepathTokens[len(filepathTokens)-1]\n",
    "            if lastToken.startswith(\"spmsg\"):\n",
    "                train_labels[docID] = 1\n",
    "                \n",
    "            docID = docID + 1\n",
    "                    \n",
    "    \n",
    "    return features_matrix, train_labels\n",
    "\n"
   ]
  },
  {
   "cell_type": "code",
   "execution_count": 23,
   "metadata": {},
   "outputs": [
    {
     "name": "stdout",
     "output_type": "stream",
     "text": [
      "reading and processing emails from file.\n"
     ]
    }
   ],
   "source": [
    "TRAIN_DIR = \"../train-mails\"\n",
    "TEST_DIR = \"../test-mails\"\n",
    "\n",
    "dictionary = make_Dictionary(TRAIN_DIR)\n",
    "\n",
    "print(\"reading and processing emails from file.\")\n",
    "features_matrix, labels = extract_features(TRAIN_DIR)\n",
    "test_feature_matrix, test_labels = extract_features(TEST_DIR)\n",
    "\n",
    "\n",
    "\n",
    "\n"
   ]
  },
  {
   "cell_type": "code",
   "execution_count": 24,
   "metadata": {},
   "outputs": [
    {
     "name": "stdout",
     "output_type": "stream",
     "text": [
      "Training model.\n",
      "Training complete.\n"
     ]
    }
   ],
   "source": [
    "model = GaussianNB()\n",
    "print(\"Training model.\")\n",
    "#train model\n",
    "model.fit(features_matrix, labels)\n",
    "print(\"Training complete.\")"
   ]
  },
  {
   "cell_type": "code",
   "execution_count": 25,
   "metadata": {},
   "outputs": [
    {
     "name": "stdout",
     "output_type": "stream",
     "text": [
      "FINISHED classifying. accuracy score : \n",
      "0.9653846153846154\n"
     ]
    }
   ],
   "source": [
    "predicted_labels = model.predict(test_feature_matrix)\n",
    "\n",
    "print(\"FINISHED classifying. accuracy score : \")\n",
    "print(accuracy_score(test_labels, predicted_labels))\n",
    "\n"
   ]
  }
 ],
 "metadata": {
  "kernelspec": {
   "display_name": "Python 3",
   "language": "python",
   "name": "python3"
  },
  "language_info": {
   "codemirror_mode": {
    "name": "ipython",
    "version": 3
   },
   "file_extension": ".py",
   "mimetype": "text/x-python",
   "name": "python",
   "nbconvert_exporter": "python",
   "pygments_lexer": "ipython3",
   "version": "3.8.5"
  }
 },
 "nbformat": 4,
 "nbformat_minor": 4
}
